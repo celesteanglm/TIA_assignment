{
 "cells": [
  {
   "cell_type": "markdown",
   "metadata": {},
   "source": [
    "# Posts"
   ]
  },
  {
   "cell_type": "markdown",
   "metadata": {},
   "source": [
    "## Posts patterns - most common categories and tags, read times"
   ]
  },
  {
   "cell_type": "code",
   "execution_count": 1,
   "metadata": {
    "collapsed": true
   },
   "outputs": [],
   "source": [
    "from wordcloud import WordCloud, STOPWORDS\n",
    "import matplotlib.pyplot as plt\n",
    "import pandas as pd\n",
    "import seaborn as sns\n",
    "\n",
    "%matplotlib inline"
   ]
  },
  {
   "cell_type": "code",
   "execution_count": 2,
   "metadata": {},
   "outputs": [
    {
     "data": {
      "text/html": [
       "<div>\n",
       "<style>\n",
       "    .dataframe thead tr:only-child th {\n",
       "        text-align: right;\n",
       "    }\n",
       "\n",
       "    .dataframe thead th {\n",
       "        text-align: left;\n",
       "    }\n",
       "\n",
       "    .dataframe tbody tr th {\n",
       "        vertical-align: top;\n",
       "    }\n",
       "</style>\n",
       "<table border=\"1\" class=\"dataframe\">\n",
       "  <thead>\n",
       "    <tr style=\"text-align: right;\">\n",
       "      <th></th>\n",
       "      <th>id</th>\n",
       "      <th>page_number</th>\n",
       "      <th>date_gmt</th>\n",
       "      <th>modified_gmt</th>\n",
       "      <th>title</th>\n",
       "      <th>slug</th>\n",
       "      <th>status</th>\n",
       "      <th>type</th>\n",
       "      <th>link</th>\n",
       "      <th>content</th>\n",
       "      <th>excerpt</th>\n",
       "      <th>categories</th>\n",
       "      <th>tags</th>\n",
       "      <th>read_time</th>\n",
       "    </tr>\n",
       "  </thead>\n",
       "  <tbody>\n",
       "    <tr>\n",
       "      <th>0</th>\n",
       "      <td>437234</td>\n",
       "      <td>1</td>\n",
       "      <td>2017-10-25T06:00:08</td>\n",
       "      <td>2017-10-25T06:00:08</td>\n",
       "      <td>Brief: Ant Financial and Globe roll out cashle...</td>\n",
       "      <td>ant-alipay-globe-philippines</td>\n",
       "      <td>publish</td>\n",
       "      <td>post</td>\n",
       "      <td>https://www.techinasia.com/ant-alipay-globe-ph...</td>\n",
       "      <td>&lt;div id=\"attachment_437243\" class=\"wp-caption ...</td>\n",
       "      <td>&lt;p&gt;The Alibaba affiliate is backing Globe Tele...</td>\n",
       "      <td>Brief,Fintech,News</td>\n",
       "      <td>cashless,cashless payments,ewallets,mobile pay...</td>\n",
       "      <td>1</td>\n",
       "    </tr>\n",
       "    <tr>\n",
       "      <th>1</th>\n",
       "      <td>437178</td>\n",
       "      <td>1</td>\n",
       "      <td>2017-10-25T05:43:59</td>\n",
       "      <td>2017-10-25T06:25:03</td>\n",
       "      <td>How Baidu, Alibaba, and Tencent plan to domina...</td>\n",
       "      <td>baidu-alibaba-tencent-dominate-chinas-online-i...</td>\n",
       "      <td>publish</td>\n",
       "      <td>post</td>\n",
       "      <td>https://www.techinasia.com/baidu-alibaba-tence...</td>\n",
       "      <td>&lt;div id=\"attachment_110421\" class=\"wp-caption ...</td>\n",
       "      <td>&lt;p&gt;The race to capture China’s nascent online ...</td>\n",
       "      <td>Features,Fintech</td>\n",
       "      <td>Alibaba,Baidu,China,fintech,Tencent,Zhongan</td>\n",
       "      <td>4</td>\n",
       "    </tr>\n",
       "    <tr>\n",
       "      <th>2</th>\n",
       "      <td>437154</td>\n",
       "      <td>1</td>\n",
       "      <td>2017-10-25T05:00:44</td>\n",
       "      <td>2017-10-25T03:19:53</td>\n",
       "      <td>Video: Better machine translation will be a hu...</td>\n",
       "      <td>video-jobs-machine-translation-will-kill</td>\n",
       "      <td>publish</td>\n",
       "      <td>post</td>\n",
       "      <td>https://www.techinasia.com/video-jobs-machine-...</td>\n",
       "      <td>&lt;p&gt;It’s not just self-driving cars that are se...</td>\n",
       "      <td>&lt;p&gt;It’s not just self-driving cars that are se...</td>\n",
       "      <td>Analysis</td>\n",
       "      <td>data series,job killers,language translation,l...</td>\n",
       "      <td>1</td>\n",
       "    </tr>\n",
       "    <tr>\n",
       "      <th>3</th>\n",
       "      <td>437176</td>\n",
       "      <td>1</td>\n",
       "      <td>2017-10-25T03:35:27</td>\n",
       "      <td>2017-10-25T03:17:00</td>\n",
       "      <td>Video: This robotic dog from China looks prett...</td>\n",
       "      <td>robo-dog-from-china</td>\n",
       "      <td>publish</td>\n",
       "      <td>post</td>\n",
       "      <td>https://www.techinasia.com/robo-dog-from-china</td>\n",
       "      <td>&lt;p&gt;This new robot can even withstand the kick ...</td>\n",
       "      <td>&lt;p&gt;This robo dog from China’s Unitree Robotics...</td>\n",
       "      <td>News,Robotics</td>\n",
       "      <td>Boston Dynamics,China,robotics,robots,TIA vide...</td>\n",
       "      <td>1</td>\n",
       "    </tr>\n",
       "    <tr>\n",
       "      <th>4</th>\n",
       "      <td>437027</td>\n",
       "      <td>1</td>\n",
       "      <td>2017-10-25T02:43:59</td>\n",
       "      <td>2017-10-25T04:14:02</td>\n",
       "      <td>Average value of ICO climbs to $10m, throws VC...</td>\n",
       "      <td>vc-funding-dilemma-as-average-value-of-ico-cli...</td>\n",
       "      <td>publish</td>\n",
       "      <td>post</td>\n",
       "      <td>https://www.techinasia.com/vc-funding-dilemma-...</td>\n",
       "      <td>&lt;div id=\"attachment_368400\" class=\"wp-caption ...</td>\n",
       "      <td>&lt;p&gt;Fears mount of mismanagement of “over-capit...</td>\n",
       "      <td>Cryptocurrencies,Features,Fintech</td>\n",
       "      <td>bitcoin,blockchain,blockchain startups,CB Insi...</td>\n",
       "      <td>6</td>\n",
       "    </tr>\n",
       "  </tbody>\n",
       "</table>\n",
       "</div>"
      ],
      "text/plain": [
       "       id  page_number             date_gmt         modified_gmt  \\\n",
       "0  437234            1  2017-10-25T06:00:08  2017-10-25T06:00:08   \n",
       "1  437178            1  2017-10-25T05:43:59  2017-10-25T06:25:03   \n",
       "2  437154            1  2017-10-25T05:00:44  2017-10-25T03:19:53   \n",
       "3  437176            1  2017-10-25T03:35:27  2017-10-25T03:17:00   \n",
       "4  437027            1  2017-10-25T02:43:59  2017-10-25T04:14:02   \n",
       "\n",
       "                                               title  \\\n",
       "0  Brief: Ant Financial and Globe roll out cashle...   \n",
       "1  How Baidu, Alibaba, and Tencent plan to domina...   \n",
       "2  Video: Better machine translation will be a hu...   \n",
       "3  Video: This robotic dog from China looks prett...   \n",
       "4  Average value of ICO climbs to $10m, throws VC...   \n",
       "\n",
       "                                                slug   status  type  \\\n",
       "0                       ant-alipay-globe-philippines  publish  post   \n",
       "1  baidu-alibaba-tencent-dominate-chinas-online-i...  publish  post   \n",
       "2           video-jobs-machine-translation-will-kill  publish  post   \n",
       "3                                robo-dog-from-china  publish  post   \n",
       "4  vc-funding-dilemma-as-average-value-of-ico-cli...  publish  post   \n",
       "\n",
       "                                                link  \\\n",
       "0  https://www.techinasia.com/ant-alipay-globe-ph...   \n",
       "1  https://www.techinasia.com/baidu-alibaba-tence...   \n",
       "2  https://www.techinasia.com/video-jobs-machine-...   \n",
       "3     https://www.techinasia.com/robo-dog-from-china   \n",
       "4  https://www.techinasia.com/vc-funding-dilemma-...   \n",
       "\n",
       "                                             content  \\\n",
       "0  <div id=\"attachment_437243\" class=\"wp-caption ...   \n",
       "1  <div id=\"attachment_110421\" class=\"wp-caption ...   \n",
       "2  <p>It’s not just self-driving cars that are se...   \n",
       "3  <p>This new robot can even withstand the kick ...   \n",
       "4  <div id=\"attachment_368400\" class=\"wp-caption ...   \n",
       "\n",
       "                                             excerpt  \\\n",
       "0  <p>The Alibaba affiliate is backing Globe Tele...   \n",
       "1  <p>The race to capture China’s nascent online ...   \n",
       "2  <p>It’s not just self-driving cars that are se...   \n",
       "3  <p>This robo dog from China’s Unitree Robotics...   \n",
       "4  <p>Fears mount of mismanagement of “over-capit...   \n",
       "\n",
       "                          categories  \\\n",
       "0                 Brief,Fintech,News   \n",
       "1                   Features,Fintech   \n",
       "2                           Analysis   \n",
       "3                      News,Robotics   \n",
       "4  Cryptocurrencies,Features,Fintech   \n",
       "\n",
       "                                                tags  read_time  \n",
       "0  cashless,cashless payments,ewallets,mobile pay...          1  \n",
       "1        Alibaba,Baidu,China,fintech,Tencent,Zhongan          4  \n",
       "2  data series,job killers,language translation,l...          1  \n",
       "3  Boston Dynamics,China,robotics,robots,TIA vide...          1  \n",
       "4  bitcoin,blockchain,blockchain startups,CB Insi...          6  "
      ]
     },
     "execution_count": 2,
     "metadata": {},
     "output_type": "execute_result"
    }
   ],
   "source": [
    "# import data\n",
    "posts_df = pd.read_csv('data/TIA_posts.csv')\n",
    "posts_df.head()"
   ]
  },
  {
   "cell_type": "code",
   "execution_count": 3,
   "metadata": {
    "collapsed": true
   },
   "outputs": [],
   "source": [
    "cat_lists = posts_df['categories'].apply(lambda x:str(x).split(','))"
   ]
  },
  {
   "cell_type": "code",
   "execution_count": 4,
   "metadata": {
    "collapsed": true
   },
   "outputs": [],
   "source": [
    "sum_cat_lists = cat_lists.sum()"
   ]
  },
  {
   "cell_type": "code",
   "execution_count": 5,
   "metadata": {
    "collapsed": true
   },
   "outputs": [],
   "source": [
    "from collections import Counter\n",
    "\n",
    "#shortlist most common categories\n",
    "cat_counts = dict(Counter(sum_cat_lists).most_common(5))"
   ]
  },
  {
   "cell_type": "code",
   "execution_count": 6,
   "metadata": {},
   "outputs": [
    {
     "data": {
      "text/plain": [
       "{'Community': 125,\n",
       " 'Investments': 199,\n",
       " 'News': 406,\n",
       " 'Startups': 391,\n",
       " 'Tips': 116}"
      ]
     },
     "execution_count": 6,
     "metadata": {},
     "output_type": "execute_result"
    }
   ],
   "source": [
    "cat_counts"
   ]
  },
  {
   "cell_type": "code",
   "execution_count": 7,
   "metadata": {},
   "outputs": [
    {
     "data": {
      "text/plain": [
       "<matplotlib.axes._subplots.AxesSubplot at 0x7f7e7ac96eb8>"
      ]
     },
     "execution_count": 7,
     "metadata": {},
     "output_type": "execute_result"
    },
    {
     "data": {
      "image/png": "[encoded data removed]",
      "text/plain": [
       "<matplotlib.figure.Figure at 0x7f7e7ac96780>"
      ]
     },
     "metadata": {},
     "output_type": "display_data"
    }
   ],
   "source": [
    "sns.barplot(x=list(cat_counts.keys()), y=list(cat_counts.values()))"
   ]
  },
  {
   "cell_type": "markdown",
   "metadata": {},
   "source": [
    "As expected, most posts are news, and popular categories are startups and investments."
   ]
  },
  {
   "cell_type": "code",
   "execution_count": 8,
   "metadata": {},
   "outputs": [
    {
     "data": {
      "text/plain": [
       "<matplotlib.axes._subplots.AxesSubplot at 0x7f7e72c08748>"
      ]
     },
     "execution_count": 8,
     "metadata": {},
     "output_type": "execute_result"
    },
    {
     "data": {
      "image/png": "[encoded data removed]",
      "text/plain": [
       "<matplotlib.figure.Figure at 0x7f7e72c08198>"
      ]
     },
     "metadata": {},
     "output_type": "display_data"
    }
   ],
   "source": [
    "# find most common tags\n",
    "tag_lists = posts_df['tags'].apply(lambda x:str(x).split(','))\n",
    "sum_tag_lists = tag_lists.sum()\n",
    "tag_counts = dict(Counter(sum_tag_lists).most_common(5))\n",
    "sns.barplot(x=list(tag_counts.keys()), y=list(tag_counts.values()))"
   ]
  },
  {
   "cell_type": "markdown",
   "metadata": {},
   "source": [
    "As expected, startups is a common tag.\n",
    "<br>\n",
    "Seems like majority of the articles are related to Singapore. China is close behind."
   ]
  },
  {
   "cell_type": "code",
   "execution_count": 9,
   "metadata": {},
   "outputs": [
    {
     "data": {
      "text/plain": [
       "<matplotlib.axes._subplots.AxesSubplot at 0x7f7e72b6b550>"
      ]
     },
     "execution_count": 9,
     "metadata": {},
     "output_type": "execute_result"
    },
    {
     "data": {
      "image/png": "[encoded data removed]",
      "text/plain": [
       "<matplotlib.figure.Figure at 0x7f7e7a5db748>"
      ]
     },
     "metadata": {},
     "output_type": "display_data"
    }
   ],
   "source": [
    "# plot out the read times\n",
    "read_time = posts_df['read_time'].apply(lambda x:int(x))\n",
    "sns.countplot(read_time)"
   ]
  },
  {
   "cell_type": "markdown",
   "metadata": {},
   "source": [
    "Many articles are a short read (1 to 2-minute reads are common)."
   ]
  },
  {
   "cell_type": "markdown",
   "metadata": {},
   "source": [
    "## Wordcloud of posts"
   ]
  },
  {
   "cell_type": "markdown",
   "metadata": {},
   "source": [
    "I am going to plot a wordcloud to see if there are any interesting patterns in the words used in the posts.\n",
    "<br>\n",
    "While scraping the data, I noted that the content is stored in HTML markdown form, so I'll definitely have to do some text cleaning."
   ]
  },
  {
   "cell_type": "code",
   "execution_count": 10,
   "metadata": {},
   "outputs": [
    {
     "data": {
      "text/plain": [
       "0    <div id=\"attachment_437243\" class=\"wp-caption ...\n",
       "1    <div id=\"attachment_110421\" class=\"wp-caption ...\n",
       "2    <p>It’s not just self-driving cars that are se...\n",
       "3    <p>This new robot can even withstand the kick ...\n",
       "4    <div id=\"attachment_368400\" class=\"wp-caption ...\n",
       "Name: content, dtype: object"
      ]
     },
     "execution_count": 10,
     "metadata": {},
     "output_type": "execute_result"
    }
   ],
   "source": [
    "posts_df['content'].head()"
   ]
  },
  {
   "cell_type": "code",
   "execution_count": 11,
   "metadata": {
    "collapsed": true
   },
   "outputs": [],
   "source": [
    "import re"
   ]
  },
  {
   "cell_type": "code",
   "execution_count": 12,
   "metadata": {
    "collapsed": true
   },
   "outputs": [],
   "source": [
    "text = ' '.join(posts_df['content'])"
   ]
  },
  {
   "cell_type": "code",
   "execution_count": 13,
   "metadata": {
    "collapsed": true
   },
   "outputs": [],
   "source": [
    "def clean_text(text):\n",
    "    # remove HTML tags \n",
    "    text = re.sub('<[^<]+?>', '', text)\n",
    "\n",
    "    #remove \\n, replace with space\n",
    "    text = re.sub('\\n', '', text)\n",
    "\n",
    "    # remove URLs, @tagging\n",
    "    text = \" \".join([text for text in text.split()\n",
    "                                if 'http' not in text\n",
    "                                    and not text.startswith('@')\n",
    "                                ])\n",
    "    \n",
    "    # make sure we get words only (i.e. strip out punctuation, non-ASCII chars)\n",
    "    text_list = re.findall(r'\\w+', text)\n",
    "    \n",
    "    # make lower case\n",
    "    text = ' '.join(text_list).lower()\n",
    "    \n",
    "    return text"
   ]
  },
  {
   "cell_type": "code",
   "execution_count": 14,
   "metadata": {
    "collapsed": true
   },
   "outputs": [],
   "source": [
    "text = clean_text(text)"
   ]
  },
  {
   "cell_type": "code",
   "execution_count": 15,
   "metadata": {
    "collapsed": true
   },
   "outputs": [],
   "source": [
    "#commented out because output is weird\n",
    "# # stemming \n",
    "# from gensim import parsing\n",
    "# text = parsing.stem_text(text)"
   ]
  },
  {
   "cell_type": "code",
   "execution_count": 16,
   "metadata": {
    "scrolled": true
   },
   "outputs": [
    {
     "data": {
      "image/png": "[encoded data removed]",
      "text/plain": [
       "<matplotlib.figure.Figure at 0x7f7ea86e0e80>"
      ]
     },
     "metadata": {},
     "output_type": "display_data"
    }
   ],
   "source": [
    "wordcloud = WordCloud(\n",
    "                      font_path='/home/celesteanglm/.font/CabinSketch-Regular.ttf',\n",
    "                      stopwords=STOPWORDS,\n",
    "                      background_color='white',\n",
    "                      width=2000,\n",
    "                      height=2000\n",
    "                     ).generate(text)\n",
    "\n",
    "plt.imshow(wordcloud)\n",
    "plt.axis('off')\n",
    "plt.savefig('output/wordcloud1.png', dpi=500)\n",
    "plt.show()"
   ]
  },
  {
   "cell_type": "markdown",
   "metadata": {
    "collapsed": true
   },
   "source": [
    "Looks like many posts are about startups and companies.\n",
    "<br>\n",
    "We can also tell that common themes are related to the business, people and the products (of startups, probably).\n",
    "<br>\n",
    "There are some words like customers and users, probably when posts are talking about the users of startups' products.\n",
    "<br>\n",
    "Another running theme is money/investment, with words like investor, millions, billions.\n",
    "<br>\n",
    "<br>\n",
    "At this point I think an interesting area to explore is topic modelling - to see how these words/subjects link together."
   ]
  },
  {
   "cell_type": "markdown",
   "metadata": {
    "collapsed": true
   },
   "source": [
    "## Topic modelling"
   ]
  },
  {
   "cell_type": "code",
   "execution_count": 24,
   "metadata": {
    "collapsed": true
   },
   "outputs": [],
   "source": [
    "from sklearn.feature_extraction.text import CountVectorizer\n",
    "from sklearn.decomposition import LatentDirichletAllocation"
   ]
  },
  {
   "cell_type": "code",
   "execution_count": 25,
   "metadata": {
    "collapsed": true
   },
   "outputs": [],
   "source": [
    "# for topic modelling I'm going to focus on titles\n",
    "documents = list(posts_df['title'].apply(clean_text))"
   ]
  },
  {
   "cell_type": "code",
   "execution_count": 43,
   "metadata": {
    "collapsed": true
   },
   "outputs": [],
   "source": [
    "no_features = 1000\n",
    "no_components = 10\n",
    "\n",
    "tf_vectorizer = CountVectorizer(max_df=0.95, min_df=2, max_features=no_features, stop_words='english')\n",
    "tf = tf_vectorizer.fit_transform(documents)\n",
    "tf_feature_names = tf_vectorizer.get_feature_names()\n",
    "\n",
    "lda = LatentDirichletAllocation(n_components=no_components, max_iter=10, learning_method='online', learning_offset=50.,random_state=0).fit(tf)"
   ]
  },
  {
   "cell_type": "code",
   "execution_count": 44,
   "metadata": {},
   "outputs": [
    {
     "name": "stdout",
     "output_type": "stream",
     "text": [
      "Topic 1:\n",
      "jack ma ecommerce startup vietnam\n",
      "Topic 2:\n",
      "developer startup discuss job went\n",
      "Topic 3:\n",
      "singapore indonesia startup app raises\n",
      "Topic 4:\n",
      "video china just huge solar\n",
      "Topic 5:\n",
      "guide founder early engineer stage\n",
      "Topic 6:\n",
      "learned india opinion lessons iphone\n",
      "Topic 7:\n",
      "data science simplified vc started\n",
      "Topic 8:\n",
      "startup hong kong business japanese\n",
      "Topic 9:\n",
      "startup brief singapore tech startups\n",
      "Topic 10:\n",
      "brief uber alibaba softbank ico\n"
     ]
    }
   ],
   "source": [
    "def display_topics(model, feature_names, no_top_words):\n",
    "    for topic_idx, topic in enumerate(model.components_):\n",
    "        print('Topic {}:'.format(topic_idx+1))\n",
    "        print(' '.join([feature_names[i] for i in topic.argsort()[:-no_top_words - 1:-1]]))\n",
    "\n",
    "no_top_words = 5\n",
    "display_topics(lda, tf_feature_names, no_top_words)"
   ]
  },
  {
   "cell_type": "markdown",
   "metadata": {},
   "source": [
    "Not all results are immediately interpretable but here are some insights are first glance:\n",
    "<li>From topic 5, we can tell that many articles are guides to early stage startup founder, giving tips such as how to hire engineers</li>\n",
    "<li>From topic 7, it seems that some articles are simple guides to data science, probably from a founder's persepctive. It could also mean that many articles are about VCs investing in data science startups.</li>\n",
    "<li>Topic 3 consists of news related to Singapore/Indonesian startups raising C amount of money.</li>\n",
    "<li>Given Jack Ma's influence in ecommerce, and his visits to Vietnam, it is not surprising that topic 1 is about him"
   ]
  },
  {
   "cell_type": "markdown",
   "metadata": {},
   "source": [
    "## Classification by tag"
   ]
  },
  {
   "cell_type": "markdown",
   "metadata": {},
   "source": [
    "Assuming that tags are currently not being automatically created, I think it might be possible to create a automated tag generation based on the content of posts.\n",
    "<br>\n",
    "However, an issue now is that some posts have multiple tags (i.e. multiclass classifiation). I haven't tried this before, but i found this stackoverflow thread: https://stackoverflow.com/questions/10526579/use-scikit-learn-to-classify-into-multiple-categories, hence I am going to adapt it to this problem and try it out anyway."
   ]
  },
  {
   "cell_type": "code",
   "execution_count": 78,
   "metadata": {
    "collapsed": true
   },
   "outputs": [],
   "source": [
    "import numpy as np\n",
    "from sklearn.pipeline import Pipeline\n",
    "from sklearn.feature_extraction.text import CountVectorizer\n",
    "from sklearn.feature_extraction.text import TfidfTransformer\n",
    "from sklearn.multiclass import OneVsRestClassifier\n",
    "from sklearn.preprocessing import MultiLabelBinarizer\n",
    "\n",
    "from sklearn.svm import LinearSVC\n",
    "from sklearn.ensemble import RandomForestClassifier\n",
    "from sklearn.ensemble import GradientBoostingClassifier"
   ]
  },
  {
   "cell_type": "code",
   "execution_count": 54,
   "metadata": {
    "collapsed": true
   },
   "outputs": [],
   "source": [
    "X_train = list(posts_df['content'].apply(clean_text))\n",
    "y_train_text = cat_lists "
   ]
  },
  {
   "cell_type": "code",
   "execution_count": 68,
   "metadata": {
    "collapsed": true
   },
   "outputs": [],
   "source": [
    "# for the test set, I randomly picked out newer TIA articles which I probably didn't scrape.\n",
    "with open('tests/test1.txt', 'r') as f:\n",
    "    test1 = f.read()\n",
    "\n",
    "with open('tests/test2.txt', 'r') as f2:\n",
    "    test2 = f2.read()"
   ]
  },
  {
   "cell_type": "code",
   "execution_count": 74,
   "metadata": {
    "collapsed": true
   },
   "outputs": [],
   "source": [
    "x_test1 = clean_text(test1)\n",
    "x_test2 = clean_text(test2)\n",
    "\n",
    "X_test = pd.Series([x_test1, x_test2])"
   ]
  },
  {
   "cell_type": "code",
   "execution_count": 83,
   "metadata": {},
   "outputs": [
    {
     "name": "stdout",
     "output_type": "stream",
     "text": [
      "test 1 => Ecommerce, Startups\n",
      "test 2 => Cryptocurrencies, Startups\n"
     ]
    }
   ],
   "source": [
    "model = GradientBoostingClassifier()\n",
    "\n",
    "mlb = MultiLabelBinarizer()\n",
    "Y = mlb.fit_transform(y_train_text)\n",
    "\n",
    "classifier = Pipeline([\n",
    "    ('vectorizer', CountVectorizer()),\n",
    "    ('tfidf', TfidfTransformer()),\n",
    "    ('clf', OneVsRestClassifier(model))])\n",
    "\n",
    "classifier.fit(X_train, Y)\n",
    "predicted = classifier.predict(X_test)\n",
    "all_labels = mlb.inverse_transform(predicted)\n",
    "\n",
    "for i in range(len(all_labels)):\n",
    "    labels = all_labels[i]\n",
    "    print('test {0} => {1}'.format(i, ', '.join(labels)))"
   ]
  },
  {
   "cell_type": "code",
   "execution_count": 85,
   "metadata": {},
   "outputs": [
    {
     "name": "stdout",
     "output_type": "stream",
     "text": [
      "test 0 => Ecommerce, Startups\n",
      "test 1 => Cryptocurrencies, Startups\n"
     ]
    }
   ],
   "source": [
    "model2 = RandomForestClassifier()\n",
    "\n",
    "classifier2 = Pipeline([\n",
    "    ('vectorizer', CountVectorizer()),\n",
    "    ('tfidf', TfidfTransformer()),\n",
    "    ('clf', OneVsRestClassifier(model))])\n",
    "\n",
    "classifier2.fit(X_train, Y)\n",
    "predicted2 = classifier.predict(X_test)\n",
    "all_labels2 = mlb.inverse_transform(predicted2)\n",
    "\n",
    "for i in range(len(all_labels2)):\n",
    "    labels2 = all_labels2[i]\n",
    "    print('test {0} => {1}'.format(i, ', '.join(labels2)))"
   ]
  },
  {
   "cell_type": "markdown",
   "metadata": {},
   "source": [
    "It does seem like the classification is working; if you take a look at the the articles, these are quite suitable tags.\n",
    "<br>\n",
    "Disclaimer: I did not handpick the test cases ;)"
   ]
  },
  {
   "cell_type": "markdown",
   "metadata": {},
   "source": [
    "# Comments"
   ]
  },
  {
   "cell_type": "markdown",
   "metadata": {},
   "source": [
    "## Post patterns"
   ]
  },
  {
   "cell_type": "code",
   "execution_count": 87,
   "metadata": {},
   "outputs": [
    {
     "data": {
      "text/html": [
       "<div>\n",
       "<style>\n",
       "    .dataframe thead tr:only-child th {\n",
       "        text-align: right;\n",
       "    }\n",
       "\n",
       "    .dataframe thead th {\n",
       "        text-align: left;\n",
       "    }\n",
       "\n",
       "    .dataframe tbody tr th {\n",
       "        vertical-align: top;\n",
       "    }\n",
       "</style>\n",
       "<table border=\"1\" class=\"dataframe\">\n",
       "  <thead>\n",
       "    <tr style=\"text-align: right;\">\n",
       "      <th></th>\n",
       "      <th>post_id</th>\n",
       "      <th>id</th>\n",
       "      <th>post_title</th>\n",
       "      <th>post_link</th>\n",
       "      <th>content</th>\n",
       "      <th>excerpt</th>\n",
       "      <th>author_id</th>\n",
       "      <th>author_display_name</th>\n",
       "      <th>parent</th>\n",
       "      <th>upvotes</th>\n",
       "    </tr>\n",
       "  </thead>\n",
       "  <tbody>\n",
       "    <tr>\n",
       "      <th>0</th>\n",
       "      <td>437011</td>\n",
       "      <td>315658</td>\n",
       "      <td>Travel activities startup Klook nets $60m</td>\n",
       "      <td>https://www.techinasia.com/klook-series-c-fund...</td>\n",
       "      <td>&lt;p&gt;Woo, knowing the name for 2 years, well des...</td>\n",
       "      <td>Woo, knowing the name for 2 years, well deserv...</td>\n",
       "      <td>50696</td>\n",
       "      <td>William Lam</td>\n",
       "      <td>0</td>\n",
       "      <td>1</td>\n",
       "    </tr>\n",
       "    <tr>\n",
       "      <th>1</th>\n",
       "      <td>436976</td>\n",
       "      <td>315655</td>\n",
       "      <td>Asian tech news roundup – Oct 24</td>\n",
       "      <td>https://www.techinasia.com/apac-news-roundup-2...</td>\n",
       "      <td>&lt;p&gt;Good trending on tech hey! Nice article&lt;/p&gt;\\n</td>\n",
       "      <td>Good trending on tech hey! Nice article</td>\n",
       "      <td>137244</td>\n",
       "      <td>Samueltian Steven</td>\n",
       "      <td>0</td>\n",
       "      <td>0</td>\n",
       "    </tr>\n",
       "    <tr>\n",
       "      <th>2</th>\n",
       "      <td>436976</td>\n",
       "      <td>315649</td>\n",
       "      <td>Asian tech news roundup – Oct 24</td>\n",
       "      <td>https://www.techinasia.com/apac-news-roundup-2...</td>\n",
       "      <td>&lt;p&gt;Cocoon capital article is ‘page not found’i...</td>\n",
       "      <td>Cocoon capital article is 'page not found'ing....</td>\n",
       "      <td>35443</td>\n",
       "      <td>Stuart Lansdale</td>\n",
       "      <td>0</td>\n",
       "      <td>0</td>\n",
       "    </tr>\n",
       "    <tr>\n",
       "      <th>3</th>\n",
       "      <td>436976</td>\n",
       "      <td>315651</td>\n",
       "      <td>Asian tech news roundup – Oct 24</td>\n",
       "      <td>https://www.techinasia.com/apac-news-roundup-2...</td>\n",
       "      <td>&lt;p&gt;Hi Stuart. That’s odd – checked it out and ...</td>\n",
       "      <td>Hi Stuart. That's odd - checked it out and the...</td>\n",
       "      <td>124235</td>\n",
       "      <td>Jack Ellis</td>\n",
       "      <td>315649</td>\n",
       "      <td>0</td>\n",
       "    </tr>\n",
       "    <tr>\n",
       "      <th>4</th>\n",
       "      <td>436976</td>\n",
       "      <td>315650</td>\n",
       "      <td>Asian tech news roundup – Oct 24</td>\n",
       "      <td>https://www.techinasia.com/apac-news-roundup-2...</td>\n",
       "      <td>&lt;p&gt;thanks for the heads up. Just checked. Link...</td>\n",
       "      <td>thanks for the heads up. Just checked. Link se...</td>\n",
       "      <td>217</td>\n",
       "      <td>Terence Lee</td>\n",
       "      <td>315649</td>\n",
       "      <td>0</td>\n",
       "    </tr>\n",
       "  </tbody>\n",
       "</table>\n",
       "</div>"
      ],
      "text/plain": [
       "   post_id      id                                 post_title  \\\n",
       "0   437011  315658  Travel activities startup Klook nets $60m   \n",
       "1   436976  315655           Asian tech news roundup – Oct 24   \n",
       "2   436976  315649           Asian tech news roundup – Oct 24   \n",
       "3   436976  315651           Asian tech news roundup – Oct 24   \n",
       "4   436976  315650           Asian tech news roundup – Oct 24   \n",
       "\n",
       "                                           post_link  \\\n",
       "0  https://www.techinasia.com/klook-series-c-fund...   \n",
       "1  https://www.techinasia.com/apac-news-roundup-2...   \n",
       "2  https://www.techinasia.com/apac-news-roundup-2...   \n",
       "3  https://www.techinasia.com/apac-news-roundup-2...   \n",
       "4  https://www.techinasia.com/apac-news-roundup-2...   \n",
       "\n",
       "                                             content  \\\n",
       "0  <p>Woo, knowing the name for 2 years, well des...   \n",
       "1   <p>Good trending on tech hey! Nice article</p>\\n   \n",
       "2  <p>Cocoon capital article is ‘page not found’i...   \n",
       "3  <p>Hi Stuart. That’s odd – checked it out and ...   \n",
       "4  <p>thanks for the heads up. Just checked. Link...   \n",
       "\n",
       "                                             excerpt  author_id  \\\n",
       "0  Woo, knowing the name for 2 years, well deserv...      50696   \n",
       "1            Good trending on tech hey! Nice article     137244   \n",
       "2  Cocoon capital article is 'page not found'ing....      35443   \n",
       "3  Hi Stuart. That's odd - checked it out and the...     124235   \n",
       "4  thanks for the heads up. Just checked. Link se...        217   \n",
       "\n",
       "  author_display_name  parent  upvotes  \n",
       "0         William Lam       0        1  \n",
       "1   Samueltian Steven       0        0  \n",
       "2     Stuart Lansdale       0        0  \n",
       "3          Jack Ellis  315649        0  \n",
       "4         Terence Lee  315649        0  "
      ]
     },
     "execution_count": 87,
     "metadata": {},
     "output_type": "execute_result"
    }
   ],
   "source": [
    "comments_df = pd.read_csv('data/TIA_posts_comments.csv')\n",
    "comments_df.head()"
   ]
  },
  {
   "cell_type": "code",
   "execution_count": 98,
   "metadata": {},
   "outputs": [
    {
     "data": {
      "text/plain": [
       "<matplotlib.axes._subplots.AxesSubplot at 0x7f7e69309ba8>"
      ]
     },
     "execution_count": 98,
     "metadata": {},
     "output_type": "execute_result"
    },
    {
     "data": {
      "image/png": "[encoded data removed]",
      "text/plain": [
       "<matplotlib.figure.Figure at 0x7f7e69309da0>"
      ]
     },
     "metadata": {},
     "output_type": "display_data"
    }
   ],
   "source": [
    "# we count the most commented posts\n",
    "data = comments_df['post_title']\n",
    "sns.countplot(data)"
   ]
  },
  {
   "cell_type": "markdown",
   "metadata": {},
   "source": [
    "The x axis is not very readable but it is quite obvious that 3 specific post title have significantly higher comment counts. \n",
    "<br>\n",
    "Now, we find out which 3 posts titles they are:"
   ]
  },
  {
   "cell_type": "code",
   "execution_count": 97,
   "metadata": {},
   "outputs": [
    {
     "data": {
      "text/plain": [
       "10 fresh tech and startup jobs in Asia this week: Lazada, Ninja Xpress, and AdAsia Holdings    35\n",
       "What I learned building a mobile payments app in Singapore and facing DBS                      28\n",
       "11 months and $750k later, I closed my drop shipping business. Here’s why                      22\n",
       "Name: post_title, dtype: int64"
      ]
     },
     "execution_count": 97,
     "metadata": {},
     "output_type": "execute_result"
    }
   ],
   "source": [
    "data.value_counts()[:3]"
   ]
  },
  {
   "cell_type": "markdown",
   "metadata": {},
   "source": [
    "This simple exercise can tell TIA writers more about how they can use their titles to invite more discussion in comments. After all, an important part of a tech media company like TIA is building a community and it's important for readers to discuss and share their views in the comments.\n",
    "<br>\n",
    "On first glance, it seems that tech-job postings and 'personal sharing' posts have a large number of comments.\n",
    "<br>\n",
    "<br>\n",
    "I am also going to plot the number of upvotes, since this data is available."
   ]
  },
  {
   "cell_type": "code",
   "execution_count": 100,
   "metadata": {},
   "outputs": [
    {
     "data": {
      "text/plain": [
       "<matplotlib.axes._subplots.AxesSubplot at 0x7f7e696783c8>"
      ]
     },
     "execution_count": 100,
     "metadata": {},
     "output_type": "execute_result"
    },
    {
     "data": {
      "image/png": "[encoded data removed]",
      "text/plain": [
       "<matplotlib.figure.Figure at 0x7f7e696e2550>"
      ]
     },
     "metadata": {},
     "output_type": "display_data"
    }
   ],
   "source": [
    "# we count the most upvoted comments\n",
    "data = comments_df['upvotes']\n",
    "sns.barplot(x=comments_df['id'],y=comments_df['upvotes'])"
   ]
  },
  {
   "cell_type": "code",
   "execution_count": 114,
   "metadata": {
    "collapsed": true
   },
   "outputs": [],
   "source": [
    "# the above graph is not interpretable, so we pick the top few\n",
    "upvotes_df = comments_df.filter(['id','upvotes'], axis=1)"
   ]
  },
  {
   "cell_type": "code",
   "execution_count": 115,
   "metadata": {},
   "outputs": [
    {
     "data": {
      "text/html": [
       "<div>\n",
       "<style>\n",
       "    .dataframe thead tr:only-child th {\n",
       "        text-align: right;\n",
       "    }\n",
       "\n",
       "    .dataframe thead th {\n",
       "        text-align: left;\n",
       "    }\n",
       "\n",
       "    .dataframe tbody tr th {\n",
       "        vertical-align: top;\n",
       "    }\n",
       "</style>\n",
       "<table border=\"1\" class=\"dataframe\">\n",
       "  <thead>\n",
       "    <tr style=\"text-align: right;\">\n",
       "      <th></th>\n",
       "      <th>id</th>\n",
       "      <th>upvotes</th>\n",
       "    </tr>\n",
       "  </thead>\n",
       "  <tbody>\n",
       "    <tr>\n",
       "      <th>0</th>\n",
       "      <td>315658</td>\n",
       "      <td>1</td>\n",
       "    </tr>\n",
       "    <tr>\n",
       "      <th>1</th>\n",
       "      <td>315655</td>\n",
       "      <td>0</td>\n",
       "    </tr>\n",
       "    <tr>\n",
       "      <th>2</th>\n",
       "      <td>315649</td>\n",
       "      <td>0</td>\n",
       "    </tr>\n",
       "    <tr>\n",
       "      <th>3</th>\n",
       "      <td>315651</td>\n",
       "      <td>0</td>\n",
       "    </tr>\n",
       "    <tr>\n",
       "      <th>4</th>\n",
       "      <td>315650</td>\n",
       "      <td>0</td>\n",
       "    </tr>\n",
       "  </tbody>\n",
       "</table>\n",
       "</div>"
      ],
      "text/plain": [
       "       id  upvotes\n",
       "0  315658        1\n",
       "1  315655        0\n",
       "2  315649        0\n",
       "3  315651        0\n",
       "4  315650        0"
      ]
     },
     "execution_count": 115,
     "metadata": {},
     "output_type": "execute_result"
    }
   ],
   "source": [
    "upvotes_df.head()"
   ]
  },
  {
   "cell_type": "code",
   "execution_count": 121,
   "metadata": {
    "collapsed": true
   },
   "outputs": [],
   "source": [
    "data = upvotes_df.sort_values(['upvotes'], ascending=False)[:5]"
   ]
  },
  {
   "cell_type": "code",
   "execution_count": 123,
   "metadata": {},
   "outputs": [
    {
     "data": {
      "text/plain": [
       "<matplotlib.axes._subplots.AxesSubplot at 0x7f7e6165ab00>"
      ]
     },
     "execution_count": 123,
     "metadata": {},
     "output_type": "execute_result"
    },
    {
     "data": {
      "image/png": "[encoded data removed]",
      "text/plain": [
       "<matplotlib.figure.Figure at 0x7f7e63236128>"
      ]
     },
     "metadata": {},
     "output_type": "display_data"
    }
   ],
   "source": [
    "sns.barplot(x=data['id'], y=data['upvotes'])"
   ]
  },
  {
   "cell_type": "code",
   "execution_count": 126,
   "metadata": {},
   "outputs": [
    {
     "data": {
      "text/html": [
       "<div>\n",
       "<style>\n",
       "    .dataframe thead tr:only-child th {\n",
       "        text-align: right;\n",
       "    }\n",
       "\n",
       "    .dataframe thead th {\n",
       "        text-align: left;\n",
       "    }\n",
       "\n",
       "    .dataframe tbody tr th {\n",
       "        vertical-align: top;\n",
       "    }\n",
       "</style>\n",
       "<table border=\"1\" class=\"dataframe\">\n",
       "  <thead>\n",
       "    <tr style=\"text-align: right;\">\n",
       "      <th></th>\n",
       "      <th>id</th>\n",
       "      <th>upvotes</th>\n",
       "    </tr>\n",
       "  </thead>\n",
       "  <tbody>\n",
       "    <tr>\n",
       "      <th>6</th>\n",
       "      <td>273583</td>\n",
       "      <td>16</td>\n",
       "    </tr>\n",
       "    <tr>\n",
       "      <th>5</th>\n",
       "      <td>273581</td>\n",
       "      <td>13</td>\n",
       "    </tr>\n",
       "    <tr>\n",
       "      <th>1112</th>\n",
       "      <td>313479</td>\n",
       "      <td>9</td>\n",
       "    </tr>\n",
       "    <tr>\n",
       "      <th>7</th>\n",
       "      <td>274603</td>\n",
       "      <td>8</td>\n",
       "    </tr>\n",
       "    <tr>\n",
       "      <th>480</th>\n",
       "      <td>314743</td>\n",
       "      <td>8</td>\n",
       "    </tr>\n",
       "  </tbody>\n",
       "</table>\n",
       "</div>"
      ],
      "text/plain": [
       "          id  upvotes\n",
       "6     273583       16\n",
       "5     273581       13\n",
       "1112  313479        9\n",
       "7     274603        8\n",
       "480   314743        8"
      ]
     },
     "execution_count": 126,
     "metadata": {},
     "output_type": "execute_result"
    }
   ],
   "source": [
    "data"
   ]
  },
  {
   "cell_type": "markdown",
   "metadata": {},
   "source": [
    "Time to find out which comments are the most upvoted!"
   ]
  },
  {
   "cell_type": "code",
   "execution_count": 131,
   "metadata": {
    "collapsed": true
   },
   "outputs": [],
   "source": [
    "most_upvoted_ids = list(data['id'])\n",
    "\n",
    "def is_most_upvoted(comment_id):\n",
    "    if comment_id in most_upvoted_ids:\n",
    "        return True\n",
    "    else:\n",
    "        return False"
   ]
  },
  {
   "cell_type": "code",
   "execution_count": 136,
   "metadata": {},
   "outputs": [
    {
     "data": {
      "text/html": [
       "<div>\n",
       "<style>\n",
       "    .dataframe thead tr:only-child th {\n",
       "        text-align: right;\n",
       "    }\n",
       "\n",
       "    .dataframe thead th {\n",
       "        text-align: left;\n",
       "    }\n",
       "\n",
       "    .dataframe tbody tr th {\n",
       "        vertical-align: top;\n",
       "    }\n",
       "</style>\n",
       "<table border=\"1\" class=\"dataframe\">\n",
       "  <thead>\n",
       "    <tr style=\"text-align: right;\">\n",
       "      <th></th>\n",
       "      <th>post_id</th>\n",
       "      <th>id</th>\n",
       "      <th>post_title</th>\n",
       "      <th>post_link</th>\n",
       "      <th>content</th>\n",
       "      <th>excerpt</th>\n",
       "      <th>author_id</th>\n",
       "      <th>author_display_name</th>\n",
       "      <th>parent</th>\n",
       "      <th>upvotes</th>\n",
       "    </tr>\n",
       "  </thead>\n",
       "  <tbody>\n",
       "    <tr>\n",
       "      <th>6</th>\n",
       "      <td>307313</td>\n",
       "      <td>273583</td>\n",
       "      <td>10 fresh tech and startup jobs in Asia this we...</td>\n",
       "      <td>https://www.techinasia.com/tech-startup-job-li...</td>\n",
       "      <td>&lt;p&gt;Which are you most interested in?&lt;/p&gt;\\n</td>\n",
       "      <td>Which are you most interested in?</td>\n",
       "      <td>38356</td>\n",
       "      <td>Louisa Chiew</td>\n",
       "      <td>273581</td>\n",
       "      <td>16</td>\n",
       "    </tr>\n",
       "    <tr>\n",
       "      <th>5</th>\n",
       "      <td>307313</td>\n",
       "      <td>273581</td>\n",
       "      <td>10 fresh tech and startup jobs in Asia this we...</td>\n",
       "      <td>https://www.techinasia.com/tech-startup-job-li...</td>\n",
       "      <td>&lt;p&gt;Hope to see more of this in the coming week...</td>\n",
       "      <td>Hope to see more of this in the coming weeks!</td>\n",
       "      <td>42335</td>\n",
       "      <td>Imran Khan</td>\n",
       "      <td>0</td>\n",
       "      <td>13</td>\n",
       "    </tr>\n",
       "    <tr>\n",
       "      <th>1112</th>\n",
       "      <td>415874</td>\n",
       "      <td>313479</td>\n",
       "      <td>Winners and losers in Amazon’s entry into Sout...</td>\n",
       "      <td>https://www.techinasia.com/winners-losers-amaz...</td>\n",
       "      <td>&lt;p&gt;Great piece. Tia has really grown to be a s...</td>\n",
       "      <td>Great piece. Tia has really grown to be a seri...</td>\n",
       "      <td>89</td>\n",
       "      <td>Darius Cheung</td>\n",
       "      <td>0</td>\n",
       "      <td>9</td>\n",
       "    </tr>\n",
       "    <tr>\n",
       "      <th>7</th>\n",
       "      <td>307313</td>\n",
       "      <td>274603</td>\n",
       "      <td>10 fresh tech and startup jobs in Asia this we...</td>\n",
       "      <td>https://www.techinasia.com/tech-startup-job-li...</td>\n",
       "      <td>&lt;p&gt;Neat addition: Uber and App Annie. 🙂&lt;/p&gt;\\n</td>\n",
       "      <td>Neat addition: Uber and App Annie. :)</td>\n",
       "      <td>66</td>\n",
       "      <td>Willis Wee</td>\n",
       "      <td>0</td>\n",
       "      <td>8</td>\n",
       "    </tr>\n",
       "    <tr>\n",
       "      <th>480</th>\n",
       "      <td>427213</td>\n",
       "      <td>314743</td>\n",
       "      <td>Accelerators scramble for new revenue streams ...</td>\n",
       "      <td>https://www.techinasia.com/accelerators-scramb...</td>\n",
       "      <td>&lt;p&gt;No surprises here. Acceleration programs te...</td>\n",
       "      <td>No surprises here. Acceleration programs tend ...</td>\n",
       "      <td>117207</td>\n",
       "      <td>David Asimov</td>\n",
       "      <td>0</td>\n",
       "      <td>8</td>\n",
       "    </tr>\n",
       "  </tbody>\n",
       "</table>\n",
       "</div>"
      ],
      "text/plain": [
       "      post_id      id                                         post_title  \\\n",
       "6      307313  273583  10 fresh tech and startup jobs in Asia this we...   \n",
       "5      307313  273581  10 fresh tech and startup jobs in Asia this we...   \n",
       "1112   415874  313479  Winners and losers in Amazon’s entry into Sout...   \n",
       "7      307313  274603  10 fresh tech and startup jobs in Asia this we...   \n",
       "480    427213  314743  Accelerators scramble for new revenue streams ...   \n",
       "\n",
       "                                              post_link  \\\n",
       "6     https://www.techinasia.com/tech-startup-job-li...   \n",
       "5     https://www.techinasia.com/tech-startup-job-li...   \n",
       "1112  https://www.techinasia.com/winners-losers-amaz...   \n",
       "7     https://www.techinasia.com/tech-startup-job-li...   \n",
       "480   https://www.techinasia.com/accelerators-scramb...   \n",
       "\n",
       "                                                content  \\\n",
       "6            <p>Which are you most interested in?</p>\\n   \n",
       "5     <p>Hope to see more of this in the coming week...   \n",
       "1112  <p>Great piece. Tia has really grown to be a s...   \n",
       "7         <p>Neat addition: Uber and App Annie. 🙂</p>\\n   \n",
       "480   <p>No surprises here. Acceleration programs te...   \n",
       "\n",
       "                                                excerpt  author_id  \\\n",
       "6                     Which are you most interested in?      38356   \n",
       "5         Hope to see more of this in the coming weeks!      42335   \n",
       "1112  Great piece. Tia has really grown to be a seri...         89   \n",
       "7                 Neat addition: Uber and App Annie. :)         66   \n",
       "480   No surprises here. Acceleration programs tend ...     117207   \n",
       "\n",
       "     author_display_name  parent  upvotes  \n",
       "6           Louisa Chiew  273581       16  \n",
       "5             Imran Khan       0       13  \n",
       "1112       Darius Cheung       0        9  \n",
       "7             Willis Wee       0        8  \n",
       "480         David Asimov       0        8  "
      ]
     },
     "execution_count": 136,
     "metadata": {},
     "output_type": "execute_result"
    }
   ],
   "source": [
    "comments_df[comments_df['id'].apply(is_most_upvoted)].sort_values(['upvotes'], ascending=False)"
   ]
  },
  {
   "cell_type": "markdown",
   "metadata": {},
   "source": [
    "These are the most upvoted comments. The first few are written by people at TIA - good job in helping to spread virality!\n",
    "<br>\n",
    "The last is written by none other than Darius Cheng, CEO of 99.co. Perhaps getting get known founders/CEO in the Singapore startup scene to guest post/comment in TIA would help to promote virality?\n",
    "<br>\n",
    "<br>\n",
    "I suspect many of the upvotes came from the TIA team though, so I'm not sure of the real value of this analysis ;)"
   ]
  },
  {
   "cell_type": "markdown",
   "metadata": {},
   "source": [
    "With that, thanks for reading! I had a couple of ideas about plotting time trends and sentiment analysis, but did not implement them eventually due to lack of time. However, I would be happy to show you the related work I have done in the past!"
   ]
  },
  {
   "cell_type": "markdown",
   "metadata": {},
   "source": [
    "# Thank you for reading!"
   ]
  }
 ],
 "metadata": {
  "kernelspec": {
   "display_name": "Python 3",
   "language": "python",
   "name": "python3"
  },
  "language_info": {
   "codemirror_mode": {
    "name": "ipython",
    "version": 3
   },
   "file_extension": ".py",
   "mimetype": "text/x-python",
   "name": "python",
   "nbconvert_exporter": "python",
   "pygments_lexer": "ipython3",
   "version": "3.6.3"
  }
 },
 "nbformat": 4,
 "nbformat_minor": 2
}
